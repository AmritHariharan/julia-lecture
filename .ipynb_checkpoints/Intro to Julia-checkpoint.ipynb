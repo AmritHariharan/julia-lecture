{
 "cells": [
  {
   "cell_type": "markdown",
   "metadata": {},
   "source": [
    "# Intro to Julia"
   ]
  },
  {
   "cell_type": "markdown",
   "metadata": {},
   "source": [
    "## Basic Math"
   ]
  },
  {
   "cell_type": "code",
   "execution_count": 1,
   "metadata": {},
   "outputs": [
    {
     "name": "stdout",
     "output_type": "stream",
     "text": [
      "c = b + a * im = 3.0 + 2.0im\n",
      "typeof(a) = Int64\n",
      "typeof(b) = Float64\n",
      "typeof(c) = Complex{Float64}\n"
     ]
    },
    {
     "data": {
      "text/plain": [
       "8.0"
      ]
     },
     "execution_count": 1,
     "metadata": {},
     "output_type": "execute_result"
    }
   ],
   "source": [
    "a = 2 # Int\n",
    "b = 3.0  # Float\n",
    "@show c = b + a * im # Complex\n",
    "\n",
    "@show typeof(a)\n",
    "@show typeof(b)\n",
    "@show typeof(c)\n",
    "\n",
    "add(x, y, z) = x + y + z\n",
    "\n",
    "add(a, b, real(c))"
   ]
  },
  {
   "cell_type": "markdown",
   "metadata": {},
   "source": [
    "## Working with Arrays"
   ]
  },
  {
   "cell_type": "code",
   "execution_count": 2,
   "metadata": {},
   "outputs": [
    {
     "name": "stdout",
     "output_type": "stream",
     "text": [
      "A = rand(1:20, 4, 5) = [19 9 17 10 7; 4 7 6 10 18; 13 8 3 16 16; 4 15 9 7 2]\n",
      "A[end - 1:end, :] = [13 8 3 16 16; 4 15 9 7 2]\n",
      "C = A * B' = [190 186 151 198 102 176; 161 136 71 156 103 121; 184 180 91 205 117 178; 108 104 72 131 47 133]\n"
     ]
    },
    {
     "data": {
      "text/plain": [
       "4×6 Array{Float64,2}:\n",
       "  0.997799  -0.602024  0.20215   -0.0795786   0.994827  0.0707522\n",
       " -0.702408  -0.790433  0.951055  -0.881785    0.622989  0.998815 \n",
       "  0.976584  -0.801153  0.105988  -0.714898   -0.689698  0.877575 \n",
       "  0.926819  -0.321622  0.253823  -0.811603    0.123573  0.868966 "
      ]
     },
     "execution_count": 2,
     "metadata": {},
     "output_type": "execute_result"
    }
   ],
   "source": [
    "# Generate a 4x5 array of random ints between 1 and 20\n",
    "@show A = rand(1:20, 4, 5)\n",
    "\n",
    "# Get the last 2 rows\n",
    "@show A[end-1:end, :]\n",
    "\n",
    "# Generate a 6x5 random array\n",
    "B = rand(1:5, 6, 5)\n",
    "\n",
    "# Multiply the two\n",
    "@show C = A * B'\n",
    "\n",
    "# Apply function element wise\n",
    "sin.(C)"
   ]
  },
  {
   "cell_type": "markdown",
   "metadata": {},
   "source": [
    "# Plotting"
   ]
  },
  {
   "cell_type": "code",
   "execution_count": 3,
   "metadata": {},
   "outputs": [
    {
     "name": "stderr",
     "output_type": "stream",
     "text": [
      "┌ Info: Recompiling stale cache file /Users/amrit/.julia/compiled/v1.0/Plots/ld3vC.ji for Plots [91a5bcdd-55d7-5caf-9e0b-520d859cae80]\n",
      "└ @ Base loading.jl:1187\n",
      "┌ Info: Precompiling Interact [c601a237-2ae4-5e1e-952c-7a85b0c7eef1]\n",
      "└ @ Base loading.jl:1189\n"
     ]
    },
    {
     "data": {
      "text/html": [
       "    <script id=\"webio-setup-18341162641139527989\">\n",
       "    // Immediately-invoked-function-expression to avoid global variables.\n",
       "    (function() {\n",
       "        var warning_div = document.getElementById(\"webio-warning-8351826865840529645\");\n",
       "        var hide = function () {\n",
       "            var script = document.getElementById(\"webio-setup-18341162641139527989\");\n",
       "            var parent = script && script.parentElement;\n",
       "            var grandparent = parent && parent.parentElement;\n",
       "            if (grandparent) {\n",
       "                grandparent.style.display = \"none\";\n",
       "            }\n",
       "            warning_div.style.display = \"none\";\n",
       "        };\n",
       "        if (window.require && require.defined) {\n",
       "            // Jupyter notebook.\n",
       "            if (require.defined(\"nbextensions/webio/main\")\n",
       "                    || require.defined(\"/assetserver/658ba0fd6b596ca41864874911e100f30acc7050-dist/main.js\")) {\n",
       "                // Extension already loaded.\n",
       "                hide();\n",
       "                return;\n",
       "            }\n",
       "            console.warn(\"Loading WebIO Jupyter extension on an ad-hoc basis. Consider enabling the WebIO nbextension for a stabler experience (this should happen automatically when building WebIO).\");\n",
       "            require([\"/assetserver/658ba0fd6b596ca41864874911e100f30acc7050-dist/main.js\"], function (webIOModule) {\n",
       "                webIOModule.load_ipython_extension();\n",
       "            });\n",
       "            warning_div.innerHTML = \"<strong>Loading WebIO Jupyter extension on an ad-hoc basis. Consider enabling the WebIO nbextension for a stabler experience (this should happen automatically when building WebIO).</strong>\";\n",
       "        } else if (window.location.pathname.includes(\"/lab\")) {\n",
       "            // Guessing JupyterLab\n",
       "            warning_div.innerHTML = \"WebIO does not support JupyterLab yet.\";\n",
       "        }\n",
       "    })();\n",
       "    </script>\n",
       "    <div\n",
       "        id=\"webio-warning-8351826865840529645\"\n",
       "        class=\"output_text output_stderr\"\n",
       "        style=\"padding: 1em; font-weight: bold;\"\n",
       "    >\n",
       "        Unable to load WebIO. Please make sure WebIO works for your Jupyter client.\n",
       "        <!-- TODO: link to installation docs. -->\n",
       "    </div>\n"
      ],
      "text/plain": [
       "HTML{String}(\"    <script id=\\\"webio-setup-18341162641139527989\\\">\\n    // Immediately-invoked-function-expression to avoid global variables.\\n    (function() {\\n        var warning_div = document.getElementById(\\\"webio-warning-8351826865840529645\\\");\\n        var hide = function () {\\n            var script = document.getElementById(\\\"webio-setup-18341162641139527989\\\");\\n            var parent = script && script.parentElement;\\n            var grandparent = parent && parent.parentElement;\\n            if (grandparent) {\\n                grandparent.style.display = \\\"none\\\";\\n            }\\n            warning_div.style.display = \\\"none\\\";\\n        };\\n        if (window.require && require.defined) {\\n            // Jupyter notebook.\\n            if (require.defined(\\\"nbextensions/webio/main\\\")\\n                    || require.defined(\\\"/assetserver/658ba0fd6b596ca41864874911e100f30acc7050-dist/main.js\\\")) {\\n                // Extension already loaded.\\n                hide();\\n                return;\\n            }\\n            console.warn(\\\"Loading WebIO Jupyter extension on an ad-hoc basis. Consider enabling the WebIO nbextension for a stabler experience (this should happen automatically when building WebIO).\\\");\\n            require([\\\"/assetserver/658ba0fd6b596ca41864874911e100f30acc7050-dist/main.js\\\"], function (webIOModule) {\\n                webIOModule.load_ipython_extension();\\n            });\\n            warning_div.innerHTML = \\\"<strong>Loading WebIO Jupyter extension on an ad-hoc basis. Consider enabling the WebIO nbextension for a stabler experience (this should happen automatically when building WebIO).</strong>\\\";\\n        } else if (window.location.pathname.includes(\\\"/lab\\\")) {\\n            // Guessing JupyterLab\\n            warning_div.innerHTML = \\\"WebIO does not support JupyterLab yet.\\\";\\n        }\\n    })();\\n    </script>\\n    <div\\n        id=\\\"webio-warning-8351826865840529645\\\"\\n        class=\\\"output_text output_stderr\\\"\\n        style=\\\"padding: 1em; font-weight: bold;\\\"\\n    >\\n        Unable to load WebIO. Please make sure WebIO works for your Jupyter client.\\n        <!-- TODO: link to installation docs. -->\\n    </div>\\n\")"
      ]
     },
     "metadata": {},
     "output_type": "display_data"
    },
    {
     "data": {
      "text/plain": [
       "Plots.GRBackend()"
      ]
     },
     "execution_count": 3,
     "metadata": {},
     "output_type": "execute_result"
    }
   ],
   "source": [
    "using Plots, Interact\n",
    "gr()"
   ]
  },
  {
   "cell_type": "code",
   "execution_count": 4,
   "metadata": {},
   "outputs": [
    {
     "data": {
      "image/svg+xml": [
       "<?xml version=\"1.0\" encoding=\"utf-8\"?>\n",
       "<svg xmlns=\"http://www.w3.org/2000/svg\" xmlns:xlink=\"http://www.w3.org/1999/xlink\" width=\"600\" height=\"400\" viewBox=\"0 0 2400 1600\">\n",
       "<defs>\n",
       "  <clipPath id=\"clip0200\">\n",
       "    <rect x=\"0\" y=\"0\" width=\"2000\" height=\"2000\"/>\n",
       "  </clipPath>\n",
       "</defs>\n",
       "<defs>\n",
       "  <clipPath id=\"clip0201\">\n",
       "    <rect x=\"0\" y=\"0\" width=\"2400\" height=\"1600\"/>\n",
       "  </clipPath>\n",
       "</defs>\n",
       "<polygon clip-path=\"url(#clip0201)\" points=\"\n",
       "0,1600 2400,1600 2400,0 0,0 \n",
       "  \" fill=\"#ffffff\" fill-rule=\"evenodd\" fill-opacity=\"1\"/>\n",
       "<defs>\n",
       "  <clipPath id=\"clip0202\">\n",
       "    <rect x=\"480\" y=\"0\" width=\"1681\" height=\"1600\"/>\n",
       "  </clipPath>\n",
       "</defs>\n",
       "<polygon clip-path=\"url(#clip0201)\" points=\"\n",
       "252.496,1440.48 2321.26,1440.48 2321.26,47.2441 252.496,47.2441 \n",
       "  \" fill=\"#ffffff\" fill-rule=\"evenodd\" fill-opacity=\"1\"/>\n",
       "<defs>\n",
       "  <clipPath id=\"clip0203\">\n",
       "    <rect x=\"252\" y=\"47\" width=\"2070\" height=\"1394\"/>\n",
       "  </clipPath>\n",
       "</defs>\n",
       "<polyline clip-path=\"url(#clip0203)\" style=\"stroke:#000000; stroke-width:2; stroke-opacity:0.1; fill:none\" points=\"\n",
       "  311.046,1440.48 311.046,47.2441 \n",
       "  \"/>\n",
       "<polyline clip-path=\"url(#clip0203)\" style=\"stroke:#000000; stroke-width:2; stroke-opacity:0.1; fill:none\" points=\"\n",
       "  621.663,1440.48 621.663,47.2441 \n",
       "  \"/>\n",
       "<polyline clip-path=\"url(#clip0203)\" style=\"stroke:#000000; stroke-width:2; stroke-opacity:0.1; fill:none\" points=\"\n",
       "  932.28,1440.48 932.28,47.2441 \n",
       "  \"/>\n",
       "<polyline clip-path=\"url(#clip0203)\" style=\"stroke:#000000; stroke-width:2; stroke-opacity:0.1; fill:none\" points=\"\n",
       "  1242.9,1440.48 1242.9,47.2441 \n",
       "  \"/>\n",
       "<polyline clip-path=\"url(#clip0203)\" style=\"stroke:#000000; stroke-width:2; stroke-opacity:0.1; fill:none\" points=\"\n",
       "  1553.51,1440.48 1553.51,47.2441 \n",
       "  \"/>\n",
       "<polyline clip-path=\"url(#clip0203)\" style=\"stroke:#000000; stroke-width:2; stroke-opacity:0.1; fill:none\" points=\"\n",
       "  1864.13,1440.48 1864.13,47.2441 \n",
       "  \"/>\n",
       "<polyline clip-path=\"url(#clip0203)\" style=\"stroke:#000000; stroke-width:2; stroke-opacity:0.1; fill:none\" points=\"\n",
       "  2174.75,1440.48 2174.75,47.2441 \n",
       "  \"/>\n",
       "<polyline clip-path=\"url(#clip0203)\" style=\"stroke:#000000; stroke-width:2; stroke-opacity:0.1; fill:none\" points=\"\n",
       "  252.496,1401.13 2321.26,1401.13 \n",
       "  \"/>\n",
       "<polyline clip-path=\"url(#clip0203)\" style=\"stroke:#000000; stroke-width:2; stroke-opacity:0.1; fill:none\" points=\"\n",
       "  252.496,1072.5 2321.26,1072.5 \n",
       "  \"/>\n",
       "<polyline clip-path=\"url(#clip0203)\" style=\"stroke:#000000; stroke-width:2; stroke-opacity:0.1; fill:none\" points=\"\n",
       "  252.496,743.863 2321.26,743.863 \n",
       "  \"/>\n",
       "<polyline clip-path=\"url(#clip0203)\" style=\"stroke:#000000; stroke-width:2; stroke-opacity:0.1; fill:none\" points=\"\n",
       "  252.496,415.228 2321.26,415.228 \n",
       "  \"/>\n",
       "<polyline clip-path=\"url(#clip0203)\" style=\"stroke:#000000; stroke-width:2; stroke-opacity:0.1; fill:none\" points=\"\n",
       "  252.496,86.5926 2321.26,86.5926 \n",
       "  \"/>\n",
       "<polyline clip-path=\"url(#clip0201)\" style=\"stroke:#000000; stroke-width:4; stroke-opacity:1; fill:none\" points=\"\n",
       "  252.496,1440.48 2321.26,1440.48 \n",
       "  \"/>\n",
       "<polyline clip-path=\"url(#clip0201)\" style=\"stroke:#000000; stroke-width:4; stroke-opacity:1; fill:none\" points=\"\n",
       "  252.496,1440.48 252.496,47.2441 \n",
       "  \"/>\n",
       "<polyline clip-path=\"url(#clip0201)\" style=\"stroke:#000000; stroke-width:4; stroke-opacity:1; fill:none\" points=\"\n",
       "  311.046,1440.48 311.046,1419.58 \n",
       "  \"/>\n",
       "<polyline clip-path=\"url(#clip0201)\" style=\"stroke:#000000; stroke-width:4; stroke-opacity:1; fill:none\" points=\"\n",
       "  621.663,1440.48 621.663,1419.58 \n",
       "  \"/>\n",
       "<polyline clip-path=\"url(#clip0201)\" style=\"stroke:#000000; stroke-width:4; stroke-opacity:1; fill:none\" points=\"\n",
       "  932.28,1440.48 932.28,1419.58 \n",
       "  \"/>\n",
       "<polyline clip-path=\"url(#clip0201)\" style=\"stroke:#000000; stroke-width:4; stroke-opacity:1; fill:none\" points=\"\n",
       "  1242.9,1440.48 1242.9,1419.58 \n",
       "  \"/>\n",
       "<polyline clip-path=\"url(#clip0201)\" style=\"stroke:#000000; stroke-width:4; stroke-opacity:1; fill:none\" points=\"\n",
       "  1553.51,1440.48 1553.51,1419.58 \n",
       "  \"/>\n",
       "<polyline clip-path=\"url(#clip0201)\" style=\"stroke:#000000; stroke-width:4; stroke-opacity:1; fill:none\" points=\"\n",
       "  1864.13,1440.48 1864.13,1419.58 \n",
       "  \"/>\n",
       "<polyline clip-path=\"url(#clip0201)\" style=\"stroke:#000000; stroke-width:4; stroke-opacity:1; fill:none\" points=\"\n",
       "  2174.75,1440.48 2174.75,1419.58 \n",
       "  \"/>\n",
       "<polyline clip-path=\"url(#clip0201)\" style=\"stroke:#000000; stroke-width:4; stroke-opacity:1; fill:none\" points=\"\n",
       "  252.496,1401.13 283.528,1401.13 \n",
       "  \"/>\n",
       "<polyline clip-path=\"url(#clip0201)\" style=\"stroke:#000000; stroke-width:4; stroke-opacity:1; fill:none\" points=\"\n",
       "  252.496,1072.5 283.528,1072.5 \n",
       "  \"/>\n",
       "<polyline clip-path=\"url(#clip0201)\" style=\"stroke:#000000; stroke-width:4; stroke-opacity:1; fill:none\" points=\"\n",
       "  252.496,743.863 283.528,743.863 \n",
       "  \"/>\n",
       "<polyline clip-path=\"url(#clip0201)\" style=\"stroke:#000000; stroke-width:4; stroke-opacity:1; fill:none\" points=\"\n",
       "  252.496,415.228 283.528,415.228 \n",
       "  \"/>\n",
       "<polyline clip-path=\"url(#clip0201)\" style=\"stroke:#000000; stroke-width:4; stroke-opacity:1; fill:none\" points=\"\n",
       "  252.496,86.5926 283.528,86.5926 \n",
       "  \"/>\n",
       "<g clip-path=\"url(#clip0201)\">\n",
       "<text style=\"fill:#000000; fill-opacity:1; font-family:Arial,Helvetica Neue,Helvetica,sans-serif; font-size:48px; text-anchor:middle;\" transform=\"rotate(0, 311.046, 1494.48)\" x=\"311.046\" y=\"1494.48\">0</text>\n",
       "</g>\n",
       "<g clip-path=\"url(#clip0201)\">\n",
       "<text style=\"fill:#000000; fill-opacity:1; font-family:Arial,Helvetica Neue,Helvetica,sans-serif; font-size:48px; text-anchor:middle;\" transform=\"rotate(0, 621.663, 1494.48)\" x=\"621.663\" y=\"1494.48\">1</text>\n",
       "</g>\n",
       "<g clip-path=\"url(#clip0201)\">\n",
       "<text style=\"fill:#000000; fill-opacity:1; font-family:Arial,Helvetica Neue,Helvetica,sans-serif; font-size:48px; text-anchor:middle;\" transform=\"rotate(0, 932.28, 1494.48)\" x=\"932.28\" y=\"1494.48\">2</text>\n",
       "</g>\n",
       "<g clip-path=\"url(#clip0201)\">\n",
       "<text style=\"fill:#000000; fill-opacity:1; font-family:Arial,Helvetica Neue,Helvetica,sans-serif; font-size:48px; text-anchor:middle;\" transform=\"rotate(0, 1242.9, 1494.48)\" x=\"1242.9\" y=\"1494.48\">3</text>\n",
       "</g>\n",
       "<g clip-path=\"url(#clip0201)\">\n",
       "<text style=\"fill:#000000; fill-opacity:1; font-family:Arial,Helvetica Neue,Helvetica,sans-serif; font-size:48px; text-anchor:middle;\" transform=\"rotate(0, 1553.51, 1494.48)\" x=\"1553.51\" y=\"1494.48\">4</text>\n",
       "</g>\n",
       "<g clip-path=\"url(#clip0201)\">\n",
       "<text style=\"fill:#000000; fill-opacity:1; font-family:Arial,Helvetica Neue,Helvetica,sans-serif; font-size:48px; text-anchor:middle;\" transform=\"rotate(0, 1864.13, 1494.48)\" x=\"1864.13\" y=\"1494.48\">5</text>\n",
       "</g>\n",
       "<g clip-path=\"url(#clip0201)\">\n",
       "<text style=\"fill:#000000; fill-opacity:1; font-family:Arial,Helvetica Neue,Helvetica,sans-serif; font-size:48px; text-anchor:middle;\" transform=\"rotate(0, 2174.75, 1494.48)\" x=\"2174.75\" y=\"1494.48\">6</text>\n",
       "</g>\n",
       "<g clip-path=\"url(#clip0201)\">\n",
       "<text style=\"fill:#000000; fill-opacity:1; font-family:Arial,Helvetica Neue,Helvetica,sans-serif; font-size:48px; text-anchor:end;\" transform=\"rotate(0, 228.496, 1418.63)\" x=\"228.496\" y=\"1418.63\">-1.0</text>\n",
       "</g>\n",
       "<g clip-path=\"url(#clip0201)\">\n",
       "<text style=\"fill:#000000; fill-opacity:1; font-family:Arial,Helvetica Neue,Helvetica,sans-serif; font-size:48px; text-anchor:end;\" transform=\"rotate(0, 228.496, 1090)\" x=\"228.496\" y=\"1090\">-0.5</text>\n",
       "</g>\n",
       "<g clip-path=\"url(#clip0201)\">\n",
       "<text style=\"fill:#000000; fill-opacity:1; font-family:Arial,Helvetica Neue,Helvetica,sans-serif; font-size:48px; text-anchor:end;\" transform=\"rotate(0, 228.496, 761.363)\" x=\"228.496\" y=\"761.363\">0.0</text>\n",
       "</g>\n",
       "<g clip-path=\"url(#clip0201)\">\n",
       "<text style=\"fill:#000000; fill-opacity:1; font-family:Arial,Helvetica Neue,Helvetica,sans-serif; font-size:48px; text-anchor:end;\" transform=\"rotate(0, 228.496, 432.728)\" x=\"228.496\" y=\"432.728\">0.5</text>\n",
       "</g>\n",
       "<g clip-path=\"url(#clip0201)\">\n",
       "<text style=\"fill:#000000; fill-opacity:1; font-family:Arial,Helvetica Neue,Helvetica,sans-serif; font-size:48px; text-anchor:end;\" transform=\"rotate(0, 228.496, 104.093)\" x=\"228.496\" y=\"104.093\">1.0</text>\n",
       "</g>\n",
       "<g clip-path=\"url(#clip0201)\">\n",
       "<text style=\"fill:#000000; fill-opacity:1; font-family:Arial,Helvetica Neue,Helvetica,sans-serif; font-size:66px; text-anchor:middle;\" transform=\"rotate(0, 1286.88, 1590.4)\" x=\"1286.88\" y=\"1590.4\">x</text>\n",
       "</g>\n",
       "<g clip-path=\"url(#clip0201)\">\n",
       "<text style=\"fill:#000000; fill-opacity:1; font-family:Arial,Helvetica Neue,Helvetica,sans-serif; font-size:66px; text-anchor:middle;\" transform=\"rotate(-90, 57.6, 743.863)\" x=\"57.6\" y=\"743.863\">y(x)</text>\n",
       "</g>\n",
       "<polyline clip-path=\"url(#clip0203)\" style=\"stroke:#009af9; stroke-width:4; stroke-opacity:1; fill:none\" points=\"\n",
       "  311.046,743.863 330.76,702.177 350.474,660.658 370.187,619.474 389.901,578.791 409.615,538.773 429.329,499.581 449.043,461.372 468.756,424.3 488.47,388.516 \n",
       "  508.184,354.162 527.898,321.378 547.611,290.295 567.325,261.038 587.039,233.725 606.753,208.466 626.467,185.364 646.18,164.51 665.894,145.989 685.608,129.875 \n",
       "  705.322,116.234 725.035,105.12 744.749,96.5781 764.463,90.6424 784.177,87.3371 803.891,86.6754 823.604,88.6599 843.318,93.2827 863.032,100.525 882.746,110.358 \n",
       "  902.459,122.742 922.173,137.627 941.887,154.953 961.601,174.65 981.315,196.64 1001.03,220.832 1020.74,247.131 1040.46,275.43 1060.17,305.616 1079.88,337.566 \n",
       "  1099.6,371.152 1119.31,406.238 1139.02,442.684 1158.74,480.343 1178.45,519.064 1198.17,558.689 1217.88,599.06 1237.59,640.014 1257.31,681.386 1277.02,723.01 \n",
       "  1296.73,764.717 1316.45,806.341 1336.16,847.713 1355.88,888.667 1375.59,929.038 1395.3,968.663 1415.02,1007.38 1434.73,1045.04 1454.45,1081.49 1474.16,1116.58 \n",
       "  1493.87,1150.16 1513.59,1182.11 1533.3,1212.3 1553.01,1240.6 1572.73,1266.89 1592.44,1291.09 1612.16,1313.08 1631.87,1332.77 1651.58,1350.1 1671.3,1364.98 \n",
       "  1691.01,1377.37 1710.72,1387.2 1730.44,1394.44 1750.15,1399.07 1769.87,1401.05 1789.58,1400.39 1809.29,1397.08 1829.01,1391.15 1848.72,1382.61 1868.43,1371.49 \n",
       "  1888.15,1357.85 1907.86,1341.74 1927.58,1323.22 1947.29,1302.36 1967,1279.26 1986.72,1254 2006.43,1226.69 2026.14,1197.43 2045.86,1166.35 2065.57,1133.56 \n",
       "  2085.29,1099.21 2105,1063.43 2124.71,1026.35 2144.43,988.146 2164.14,948.954 2183.85,908.936 2203.57,868.253 2223.28,827.069 2243,785.55 2262.71,743.863 \n",
       "  \n",
       "  \"/>\n",
       "<polygon clip-path=\"url(#clip0201)\" points=\"\n",
       "1947.74,251.724 2249.26,251.724 2249.26,130.764 1947.74,130.764 \n",
       "  \" fill=\"#ffffff\" fill-rule=\"evenodd\" fill-opacity=\"1\"/>\n",
       "<polyline clip-path=\"url(#clip0201)\" style=\"stroke:#000000; stroke-width:4; stroke-opacity:1; fill:none\" points=\"\n",
       "  1947.74,251.724 2249.26,251.724 2249.26,130.764 1947.74,130.764 1947.74,251.724 \n",
       "  \"/>\n",
       "<polyline clip-path=\"url(#clip0201)\" style=\"stroke:#009af9; stroke-width:4; stroke-opacity:1; fill:none\" points=\"\n",
       "  1971.74,191.244 2115.74,191.244 \n",
       "  \"/>\n",
       "<g clip-path=\"url(#clip0201)\">\n",
       "<text style=\"fill:#000000; fill-opacity:1; font-family:Arial,Helvetica Neue,Helvetica,sans-serif; font-size:48px; text-anchor:start;\" transform=\"rotate(0, 2139.74, 208.744)\" x=\"2139.74\" y=\"208.744\">sin</text>\n",
       "</g>\n",
       "</svg>\n"
      ]
     },
     "execution_count": 4,
     "metadata": {},
     "output_type": "execute_result"
    }
   ],
   "source": [
    "#x = linspace(0,2*pi,100)\n",
    "x = range(0, stop=2*pi, length=100)\n",
    "y = sin.(x)\n",
    "plot(x,y,label=\"sin\",xlabel=\"x\",ylabel=\"y(x)\")"
   ]
  },
  {
   "cell_type": "code",
   "execution_count": 5,
   "metadata": {},
   "outputs": [],
   "source": [
    "@manipulate for f in [sin,cos,tan]\n",
    "    y = f.(x)\n",
    "    scatter(x,y,label=\"$f\",xlabel=\"x\",ylabel=\"$(f)(x)\")\n",
    "end"
   ]
  },
  {
   "cell_type": "markdown",
   "metadata": {},
   "source": [
    "# Building Neural Networks"
   ]
  },
  {
   "cell_type": "code",
   "execution_count": 17,
   "metadata": {},
   "outputs": [],
   "source": [
    "using Flux, Flux.Data.MNIST\n",
    "using Flux: onehotbatch, argmax, crossentropy, throttle, mse\n",
    "using Base.Iterators: repeated, partition"
   ]
  },
  {
   "cell_type": "markdown",
   "metadata": {},
   "source": [
    "## Basic Linear Regression"
   ]
  },
  {
   "cell_type": "code",
   "execution_count": 36,
   "metadata": {},
   "outputs": [
    {
     "name": "stdout",
     "output_type": "stream",
     "text": [
      "size(X) = (401,)\n",
      "size(Y) = (41,)\n"
     ]
    },
    {
     "ename": "BoundsError",
     "evalue": "BoundsError: attempt to access 41-element Array{Float64,1} at index [42]",
     "output_type": "error",
     "traceback": [
      "BoundsError: attempt to access 41-element Array{Float64,1} at index [42]",
      "",
      "Stacktrace:",
      " [1] getindex at ./array.jl:731 [inlined]",
      " [2] gr_draw_markers(::Plots.Series, ::Array{Float64,1}, ::Array{Float64,1}, ::Tuple{Float64,Float64}, ::Int64) at /Users/amrit/.julia/packages/Plots/rmogG/src/backends/gr.jl:299",
      " [3] gr_draw_markers(::Plots.Series, ::Array{Float64,1}, ::Array{Float64,1}, ::Tuple{Float64,Float64}) at /Users/amrit/.julia/packages/Plots/rmogG/src/backends/gr.jl:285",
      " [4] gr_display(::Plots.Subplot{Plots.GRBackend}, ::Measures.Length{:mm,Float64}, ::Measures.Length{:mm,Float64}, ::Array{Float64,1}) at /Users/amrit/.julia/packages/Plots/rmogG/src/backends/gr.jl:997",
      " [5] gr_display(::Plots.Plot{Plots.GRBackend}, ::String) at /Users/amrit/.julia/packages/Plots/rmogG/src/backends/gr.jl:526",
      " [6] _show(::Base.GenericIOBuffer{Array{UInt8,1}}, ::MIME{Symbol(\"image/svg+xml\")}, ::Plots.Plot{Plots.GRBackend}) at /Users/amrit/.julia/packages/Plots/rmogG/src/backends/gr.jl:1358",
      " [7] show(::Base.GenericIOBuffer{Array{UInt8,1}}, ::MIME{Symbol(\"image/svg+xml\")}, ::Plots.Plot{Plots.GRBackend}) at /Users/amrit/.julia/packages/Plots/rmogG/src/output.jl:201",
      " [8] #sprint#325(::Nothing, ::Int64, ::Function, ::Function, ::MIME{Symbol(\"image/svg+xml\")}, ::Vararg{Any,N} where N) at ./strings/io.jl:101",
      " [9] sprint(::Function, ::MIME{Symbol(\"image/svg+xml\")}, ::Vararg{Any,N} where N) at ./strings/io.jl:97",
      " [10] display_dict(::Plots.Plot{Plots.GRBackend}) at /Users/amrit/.julia/packages/Plots/rmogG/src/init.jl:73",
      " [11] #invokelatest#1 at ./essentials.jl:697 [inlined]",
      " [12] invokelatest at ./essentials.jl:696 [inlined]",
      " [13] execute_request(::ZMQ.Socket, ::IJulia.Msg) at /Users/amrit/.julia/packages/IJulia/DL02A/src/execute_request.jl:97",
      " [14] #invokelatest#1 at ./essentials.jl:697 [inlined]",
      " [15] invokelatest at ./essentials.jl:696 [inlined]",
      " [16] eventloop(::ZMQ.Socket) at /Users/amrit/.julia/packages/IJulia/DL02A/src/eventloop.jl:8",
      " [17] (::getfield(IJulia, Symbol(\"##12#15\")))() at ./task.jl:259"
     ]
    }
   ],
   "source": [
    "X = collect(range(-100, stop=100, step=0.5))\n",
    "Y = 2.5 .* x .+ 0.6\n",
    "#Y = Y + (rand(401) .* 4 .- 1)\n",
    "@show size(X)\n",
    "@show size(Y)\n",
    "scatter(X,Y,label=\"f\",xlabel=\"x\",ylabel=\"y\")"
   ]
  },
  {
   "cell_type": "code",
   "execution_count": 25,
   "metadata": {},
   "outputs": [
    {
     "name": "stdout",
     "output_type": "stream",
     "text": [
      "[loss(X, Y)] = Flux.Tracker.TrackedReal{Float64}[456.02 (tracked)]\n"
     ]
    },
    {
     "data": {
      "text/plain": [
       "2-element Array{Any,1}:\n",
       " Flux.Tracker.TrackedReal{Float64}[-0.61329 (tracked)]\n",
       " Flux.Tracker.TrackedReal{Float64}[0.464796 (tracked)]"
      ]
     },
     "execution_count": 25,
     "metadata": {},
     "output_type": "execute_result"
    }
   ],
   "source": [
    "loss_fn = mse\n",
    "iters = 500\n",
    "m = Chain(Dense(1, 1)) ## TODO: Replace ?? \n",
    "loss(x, y) = loss_fn(m(x), y) \n",
    "evalcb = () -> @show([loss(X,Y)])\n",
    "dataset = Base.Iterators.repeated((X, Y), iters)\n",
    "opt = ADAM(params(m)) \n",
    "Flux.train!(loss, dataset, opt, cb = throttle(evalcb, 0.1))\n",
    "params(m)"
   ]
  }
 ],
 "metadata": {
  "@webio": {
   "lastCommId": "79facb00530d46b39ac23a1c1248ed89",
   "lastKernelId": "bd65b195-a7a6-4962-92ec-8d4215c73079"
  },
  "kernelspec": {
   "display_name": "Julia 1.0.1",
   "language": "julia",
   "name": "julia-1.0"
  },
  "language_info": {
   "file_extension": ".jl",
   "mimetype": "application/julia",
   "name": "julia",
   "version": "1.0.1"
  }
 },
 "nbformat": 4,
 "nbformat_minor": 2
}
